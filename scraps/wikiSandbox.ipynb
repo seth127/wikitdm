{
 "cells": [
  {
   "cell_type": "code",
   "execution_count": 1,
   "metadata": {
    "collapsed": false
   },
   "outputs": [],
   "source": [
    "import os\n",
    "os.chdir('/Users/Seth/Documents/wikitdm')\n",
    "#import wikitdm as w\n",
    "from wikitdm import *\n",
    "import pandas as pd"
   ]
  },
  {
   "cell_type": "code",
   "execution_count": 2,
   "metadata": {
    "collapsed": false
   },
   "outputs": [],
   "source": [
    "loTest = lingualObject('text/hacking.txt')"
   ]
  },
  {
   "cell_type": "code",
   "execution_count": 3,
   "metadata": {
    "collapsed": false
   },
   "outputs": [
    {
     "data": {
      "text/plain": [
       "<wikitdm.lingualObject at 0x10f02de50>"
      ]
     },
     "execution_count": 3,
     "metadata": {},
     "output_type": "execute_result"
    }
   ],
   "source": [
    "loTest"
   ]
  },
  {
   "cell_type": "code",
   "execution_count": 4,
   "metadata": {
    "collapsed": false
   },
   "outputs": [],
   "source": [
    "loTest.getKeywords(200)"
   ]
  },
  {
   "cell_type": "code",
   "execution_count": 5,
   "metadata": {
    "collapsed": false
   },
   "outputs": [
    {
     "data": {
      "text/plain": [
       "[u'committe',\n",
       " u'cyberattack',\n",
       " u'obama',\n",
       " u'intellig',\n",
       " u'monaco',\n",
       " u'trump',\n",
       " u'senat',\n",
       " u'schultz',\n",
       " u'said',\n",
       " u'review',\n",
       " u'sen',\n",
       " u'comment',\n",
       " u'malici',\n",
       " u'cost',\n",
       " u'chairman',\n",
       " u'confid',\n",
       " u'photo',\n",
       " u'nune',\n",
       " u'thursday',\n",
       " u'mccain',\n",
       " u'us',\n",
       " u'presidentelect',\n",
       " u'electionrel',\n",
       " u'dismiss',\n",
       " u'email',\n",
       " u'congression',\n",
       " u'prioriti',\n",
       " u'cameronreut',\n",
       " u'told',\n",
       " u'laugh',\n",
       " u'graham',\n",
       " u'terror',\n",
       " u'chair',\n",
       " u'gari',\n",
       " u'guy',\n",
       " u'russian',\n",
       " u'commit',\n",
       " u'we',\n",
       " u'say',\n",
       " u'could',\n",
       " u'week',\n",
       " u'interview',\n",
       " u'prepar',\n",
       " u'conclus',\n",
       " u'alreadi',\n",
       " u'statement',\n",
       " u'look',\n",
       " u'conduct',\n",
       " u'campaign',\n",
       " u'democrat',\n",
       " u'elect',\n",
       " u'russia',\n",
       " u'senior',\n",
       " u'ignor',\n",
       " u'hack',\n",
       " u'whi',\n",
       " u'threshold',\n",
       " u'kremlin',\n",
       " u'anticip',\n",
       " u'impart',\n",
       " u'awoken',\n",
       " u'happen',\n",
       " u'reset',\n",
       " u'dedic',\n",
       " u'rep',\n",
       " u'dive',\n",
       " u'nationst',\n",
       " u'moscow',\n",
       " u'eric',\n",
       " u'threat',\n",
       " u'lindsey',\n",
       " u'isi',\n",
       " u'gop',\n",
       " u'belliger',\n",
       " u'donald',\n",
       " u'lesson',\n",
       " u'get',\n",
       " u'putin',\n",
       " u'subcommitte',\n",
       " u'outcom',\n",
       " u'sudden',\n",
       " u'breakfast',\n",
       " u'burr',\n",
       " u'trip',\n",
       " u'cyberprob',\n",
       " u'widerang',\n",
       " u'surpris',\n",
       " u'homeland',\n",
       " u'smart',\n",
       " u'interf',\n",
       " u'advis',\n",
       " u'signal',\n",
       " u'emphas',\n",
       " u'threaten',\n",
       " u'wikileak',\n",
       " u'devin',\n",
       " u'cyberthreat',\n",
       " u'afteract',\n",
       " u'sweep',\n",
       " u'podesta',\n",
       " u'jersey',\n",
       " u'wwwyahoocomnewsobamaordersfullreviewofnumelectionhackingnumhtml',\n",
       " u'blame',\n",
       " u'clinton',\n",
       " u'finger',\n",
       " u'pattern',\n",
       " u'respond',\n",
       " u'hostil',\n",
       " u'dc',\n",
       " u\"we'r\",\n",
       " u'meddl',\n",
       " u'impos',\n",
       " u'talk',\n",
       " u\"they'r\",\n",
       " u'quot',\n",
       " u'scan',\n",
       " u'contempl',\n",
       " u'prompt',\n",
       " u'declassifi',\n",
       " u'usrussia',\n",
       " u'vladimir',\n",
       " u'https',\n",
       " u'retali',\n",
       " u'implic',\n",
       " u'\\u2026',\n",
       " u'spoke',\n",
       " u'fbi',\n",
       " u'deputi',\n",
       " u'incumb',\n",
       " u\"i'v\",\n",
       " u'cyber',\n",
       " u'lisa',\n",
       " u'disclos',\n",
       " u'elsewher',\n",
       " u'penetr',\n",
       " u'probe',\n",
       " u'monitor',\n",
       " u\"don't\",\n",
       " u'reinforc',\n",
       " u'failur',\n",
       " u'investig',\n",
       " u'will',\n",
       " u'repeat',\n",
       " u'huge',\n",
       " u'elabor',\n",
       " u'ukrain',\n",
       " u'report',\n",
       " u'releas',\n",
       " u'point',\n",
       " u'challeng',\n",
       " u'examin',\n",
       " u'republican',\n",
       " u'communiti',\n",
       " u'role',\n",
       " u'full',\n",
       " u'congress',\n",
       " u'washington',\n",
       " u'presidenti',\n",
       " u'money',\n",
       " u'commiss',\n",
       " u'care',\n",
       " u'further',\n",
       " u'box',\n",
       " u'issu',\n",
       " u'attack',\n",
       " u'headquart',\n",
       " u'did',\n",
       " u'know',\n",
       " u'fail',\n",
       " u'stock',\n",
       " u'carolina',\n",
       " u'action',\n",
       " u'aid',\n",
       " u'propos',\n",
       " u'method',\n",
       " u'secretari',\n",
       " u'learn',\n",
       " u'believ',\n",
       " u'what',\n",
       " u'richard',\n",
       " u'hous',\n",
       " u'attribut',\n",
       " u'the',\n",
       " u'earlier',\n",
       " u'previous',\n",
       " u'summer',\n",
       " u'actor',\n",
       " u'soon',\n",
       " u'ad',\n",
       " u'leav',\n",
       " u'determin',\n",
       " u'she',\n",
       " u'subject',\n",
       " u'face',\n",
       " u'interest',\n",
       " u'meet',\n",
       " u'understand',\n",
       " u'go',\n",
       " u'intend',\n",
       " u'our']"
      ]
     },
     "execution_count": 5,
     "metadata": {},
     "output_type": "execute_result"
    }
   ],
   "source": [
    "loTest.keywords"
   ]
  },
  {
   "cell_type": "code",
   "execution_count": null,
   "metadata": {
    "collapsed": true
   },
   "outputs": [],
   "source": []
  },
  {
   "cell_type": "code",
   "execution_count": 24,
   "metadata": {
    "collapsed": false
   },
   "outputs": [],
   "source": [
    "#d1 = {'naw':2, 'hey':4, 'straw':1}\n",
    "#d1 = \n",
    "df1 = pd.DataFrame([1,4,3], index = ['naw','paw', 'straw'], columns = ['first.txt'])\n",
    "df2 = pd.DataFrame([4,5,6], index = ['claw','paw', 'straw'], columns = ['second.txt'])\n",
    "df3 = pd.DataFrame([10,19,30], index = ['law','paw', 'straw'], columns = ['third.txt'])\n",
    "dflist = [df1,df2,df3]"
   ]
  },
  {
   "cell_type": "code",
   "execution_count": 26,
   "metadata": {
    "collapsed": false
   },
   "outputs": [
    {
     "data": {
      "text/html": [
       "<div>\n",
       "<table border=\"1\" class=\"dataframe\">\n",
       "  <thead>\n",
       "    <tr style=\"text-align: right;\">\n",
       "      <th></th>\n",
       "      <th>first.txt</th>\n",
       "      <th>second.txt</th>\n",
       "      <th>third.txt</th>\n",
       "    </tr>\n",
       "  </thead>\n",
       "  <tbody>\n",
       "    <tr>\n",
       "      <th>claw</th>\n",
       "      <td>NaN</td>\n",
       "      <td>4.0</td>\n",
       "      <td>NaN</td>\n",
       "    </tr>\n",
       "    <tr>\n",
       "      <th>law</th>\n",
       "      <td>NaN</td>\n",
       "      <td>NaN</td>\n",
       "      <td>10.0</td>\n",
       "    </tr>\n",
       "    <tr>\n",
       "      <th>naw</th>\n",
       "      <td>1.0</td>\n",
       "      <td>NaN</td>\n",
       "      <td>NaN</td>\n",
       "    </tr>\n",
       "    <tr>\n",
       "      <th>paw</th>\n",
       "      <td>4.0</td>\n",
       "      <td>5.0</td>\n",
       "      <td>19.0</td>\n",
       "    </tr>\n",
       "    <tr>\n",
       "      <th>straw</th>\n",
       "      <td>3.0</td>\n",
       "      <td>6.0</td>\n",
       "      <td>30.0</td>\n",
       "    </tr>\n",
       "  </tbody>\n",
       "</table>\n",
       "</div>"
      ],
      "text/plain": [
       "       first.txt  second.txt  third.txt\n",
       "claw         NaN         4.0        NaN\n",
       "law          NaN         NaN       10.0\n",
       "naw          1.0         NaN        NaN\n",
       "paw          4.0         5.0       19.0\n",
       "straw        3.0         6.0       30.0"
      ]
     },
     "execution_count": 26,
     "metadata": {},
     "output_type": "execute_result"
    }
   ],
   "source": [
    "df = pd.concat(dflist, axis = 1)\n",
    "df"
   ]
  },
  {
   "cell_type": "code",
   "execution_count": null,
   "metadata": {
    "collapsed": true
   },
   "outputs": [],
   "source": []
  },
  {
   "cell_type": "code",
   "execution_count": null,
   "metadata": {
    "collapsed": true
   },
   "outputs": [],
   "source": []
  },
  {
   "cell_type": "code",
   "execution_count": null,
   "metadata": {
    "collapsed": true
   },
   "outputs": [],
   "source": []
  }
 ],
 "metadata": {
  "anaconda-cloud": {},
  "kernelspec": {
   "display_name": "Python [py27]",
   "language": "python",
   "name": "Python [py27]"
  },
  "language_info": {
   "codemirror_mode": {
    "name": "ipython",
    "version": 2
   },
   "file_extension": ".py",
   "mimetype": "text/x-python",
   "name": "python",
   "nbconvert_exporter": "python",
   "pygments_lexer": "ipython2",
   "version": "2.7.12"
  }
 },
 "nbformat": 4,
 "nbformat_minor": 0
}
